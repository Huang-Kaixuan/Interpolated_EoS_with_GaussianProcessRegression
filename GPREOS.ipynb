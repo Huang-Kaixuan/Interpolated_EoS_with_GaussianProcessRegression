{
 "cells": [
  {
   "cell_type": "code",
   "execution_count": 1,
   "id": "2e4c7c21",
   "metadata": {},
   "outputs": [],
   "source": [
    "# -*-coding:utf-8 -*-import matplotlib.pyplot as plt\n",
    "\n",
    "import matplotlib.pyplot as plt \n",
    "import numpy as np\n",
    "from matplotlib.ticker import AutoMinorLocator \n",
    "from sklearn.gaussian_process import GaussianProcessRegressor\n",
    "from sklearn.gaussian_process.kernels import RBF , WhiteKernel\n",
    "from sklearn.gaussian_process.kernels import RBF, ConstantKernel as C\n"
   ]
  },
  {
   "cell_type": "code",
   "execution_count": 3,
   "id": "61bba2dd",
   "metadata": {
    "scrolled": true
   },
   "outputs": [
    {
     "name": "stderr",
     "output_type": "stream",
     "text": [
      "C:\\Users\\DELL\\AppData\\Local\\Temp/ipykernel_19284/816629923.py:29: DeprecationWarning: `np.float` is a deprecated alias for the builtin `float`. To silence this warning, use `float` by itself. Doing this will not modify any behavior and is safe. If you specifically wanted the numpy scalar type, use `np.float64` here.\n",
      "Deprecated in NumPy 1.20; for more details and guidance: https://numpy.org/devdocs/release/1.20.0-notes.html#deprecations\n",
      "  feos = np.loadtxt('eos.dat',dtype=np.float)\n",
      "d:\\python\\lib\\site-packages\\sklearn\\gaussian_process\\kernels.py:402: ConvergenceWarning: The optimal value found for dimension 0 of parameter k2__noise_level is close to the specified lower bound 0.0018. Decreasing the bound and calling fit again may find a better value.\n",
      "  warnings.warn(\"The optimal value found for \"\n",
      "No handles with labels found to put in legend.\n"
     ]
    },
    {
     "data": {
      "text/plain": [
       "Text(0.5, 0, '$\\\\rho_B~[\\\\rm fm^{-3}]$')"
      ]
     },
     "execution_count": 3,
     "metadata": {},
     "output_type": "execute_result"
    },
    {
     "data": {
      "image/png": "[encoded data removed]",
      "text/plain": [
       "<Figure size 360x324 with 1 Axes>"
      ]
     },
     "metadata": {
      "needs_background": "light"
     },
     "output_type": "display_data"
    }
   ],
   "source": [
    "### Construct an axis: ###\n",
    "plt.figure(figsize=(5,4.5))\n",
    "ax = plt.subplot(111) \n",
    "\n",
    "############################## Interpolation with GPR method: #################################\n",
    "'''  *** feos: the input file. \n",
    "               In file \"eos.dat\", the first column is the baryon number density, \n",
    "             the second column is the pressure.  The first half of the data is the \n",
    "             EoS of the hadron phase, and the second half is the EoS of quark phase.\n",
    "             \n",
    "               You just need to replace the input file, \"eos.dat\", and reset the\n",
    "             interpolation interval (xL, xU). Notice that:\n",
    "              1) You need to put all the training data in one file;\n",
    "              2) the training set and the testing set shouldn't be too far apart. For example, \n",
    "                 if the density of the interpolation starts at 0.3fm^-3，the input baryon density should\n",
    "                 start from about 0.2 fm^-3 or 0.25 fm^-3 instead of start from 0.001 fm^-3;\n",
    "              3) When interpolating, the order of magnitude between the input values x and y  shouldn't \n",
    "                 differ too much, otherwise, take the logarithm of the input values with large order of magnitude.\n",
    "   *** Variables:\n",
    "               x, y: training data (In file 'eos.dat', x is the baryon density; y is the pressure)\n",
    "                 xL: the lower limit of interpolation region;\n",
    "                 xU: the upper limit of interpolation region;\n",
    "                  n: the number of points between xL and xU;\n",
    "             test_x: the test set (take n points between xL and xU);\n",
    "             test_y: the output of the variable test_x that need to be predicted;\n",
    " (test_yL, test_yU): 95% confidence interval(Pink shade).    '''\n",
    "\n",
    "# input Data:\n",
    "feos = np.loadtxt('eos.dat',dtype=np.float)\n",
    "x, y = feos[:,0], feos[:,1] #input the baryon density and the pressure \n",
    "ax.scatter(x, y)\n",
    "y = np.log10(y)  \n",
    "\n",
    "# crossover window:\n",
    "xL, xU, n = 0.3, 0.6, 100 #the interpolated baryon density ranges from 0.3 to 0.6 and 100 points are taken\n",
    "test_x = np.linspace(xL, xU, n) #the test set\n",
    "kernel = C(10, (1e-5, 1e4)) * RBF(length_scale = 1)+ WhiteKernel(noise_level=5e-3, noise_level_bounds=(1.8e-3, 3e-3)) #chose the SE kernel\n",
    "gp = GaussianProcessRegressor (kernel=kernel).fit(x[:, np.newaxis], y) #the GPR method\n",
    "test_y, y_std = gp.predict(test_x[:, np.newaxis], return_std =True) #predicted pressures and the uncertainties\n",
    "\n",
    "# 95% confidence interval\n",
    "y_uncertainty = 1.96*y_std \n",
    "test_yL, test_yU=10**(test_y-y_uncertainty), 10**(test_y+y_uncertainty)\n",
    "test_y=10**(test_y)\n",
    "\n",
    "###################################### plot: ##########################################\n",
    "ax.plot(test_x, test_y, c='r', lw=2)\n",
    "ax.fill_between(test_x, test_yL, test_yU, facecolor='pink')\n",
    "\n",
    "ax.legend(fontsize=11,loc=2,frameon=False)\n",
    "ax.set_xlim(0.0, 1.0) \n",
    "ax.set_ylim(0, 500)\n",
    "ax.set_ylabel(r'$P~[\\rm MeV/fm^{3}]$',size=13)\n",
    "ax.set_xlabel(r'$\\rho_B~[\\rm fm^{-3}]$',size=13) \n",
    "\n"
   ]
  },
  {
   "cell_type": "code",
   "execution_count": null,
   "id": "0aa43124",
   "metadata": {},
   "outputs": [],
   "source": []
  }
 ],
 "metadata": {
  "kernelspec": {
   "display_name": "Python 3 (ipykernel)",
   "language": "python",
   "name": "python3"
  },
  "language_info": {
   "codemirror_mode": {
    "name": "ipython",
    "version": 3
   },
   "file_extension": ".py",
   "mimetype": "text/x-python",
   "name": "python",
   "nbconvert_exporter": "python",
   "pygments_lexer": "ipython3",
   "version": "3.9.1"
  }
 },
 "nbformat": 4,
 "nbformat_minor": 5
}
